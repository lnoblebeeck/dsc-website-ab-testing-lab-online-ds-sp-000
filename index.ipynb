{
 "cells": [
  {
   "cell_type": "markdown",
   "metadata": {},
   "source": [
    "# Website A/B Testing - Lab\n",
    "\n",
    "## Introduction\n",
    "\n",
    "In this lab, you'll get another chance to practice your skills at conducting a full A/B test analysis. It will also be a chance to practice your data exploration and processing skills! The scenario you'll be investigating is data collected from the homepage of a music app page for audacity.\n",
    "\n",
    "## Objectives\n",
    "\n",
    "You will be able to:\n",
    "* Analyze the data from a website A/B test to draw relevant conclusions\n",
    "* Explore and analyze web action data"
   ]
  },
  {
   "cell_type": "markdown",
   "metadata": {},
   "source": [
    "## Exploratory Analysis\n",
    "\n",
    "Start by loading in the dataset stored in the file 'homepage_actions.csv'. Then conduct an exploratory analysis to get familiar with the data."
   ]
  },
  {
   "cell_type": "markdown",
   "metadata": {},
   "source": [
    "> Hints:\n",
    "    * Start investigating the id column:\n",
    "        * How many viewers also clicked?\n",
    "        * Are there any anomalies with the data; did anyone click who didn't view?\n",
    "        * Is there any overlap between the control and experiment groups? \n",
    "            * If so, how do you plan to account for this in your experimental design?"
   ]
  },
  {
   "cell_type": "code",
   "execution_count": 1,
   "metadata": {},
   "outputs": [],
   "source": [
    "#Your code here\n",
    "import numpy as np\n",
    "import pandas as pd\n",
    "import numpy as np\n",
    "import matplotlib.pyplot as plt\n",
    "import seaborn as sns\n",
    "import scipy.stats as stats\n",
    "sns.set_style('darkgrid')\n",
    "%matplotlib inline"
   ]
  },
  {
   "cell_type": "code",
   "execution_count": 2,
   "metadata": {},
   "outputs": [
    {
     "data": {
      "text/html": [
       "<div>\n",
       "<style scoped>\n",
       "    .dataframe tbody tr th:only-of-type {\n",
       "        vertical-align: middle;\n",
       "    }\n",
       "\n",
       "    .dataframe tbody tr th {\n",
       "        vertical-align: top;\n",
       "    }\n",
       "\n",
       "    .dataframe thead th {\n",
       "        text-align: right;\n",
       "    }\n",
       "</style>\n",
       "<table border=\"1\" class=\"dataframe\">\n",
       "  <thead>\n",
       "    <tr style=\"text-align: right;\">\n",
       "      <th></th>\n",
       "      <th>timestamp</th>\n",
       "      <th>id</th>\n",
       "      <th>group</th>\n",
       "      <th>action</th>\n",
       "    </tr>\n",
       "  </thead>\n",
       "  <tbody>\n",
       "    <tr>\n",
       "      <th>0</th>\n",
       "      <td>2016-09-24 17:42:27.839496</td>\n",
       "      <td>804196</td>\n",
       "      <td>experiment</td>\n",
       "      <td>view</td>\n",
       "    </tr>\n",
       "    <tr>\n",
       "      <th>1</th>\n",
       "      <td>2016-09-24 19:19:03.542569</td>\n",
       "      <td>434745</td>\n",
       "      <td>experiment</td>\n",
       "      <td>view</td>\n",
       "    </tr>\n",
       "    <tr>\n",
       "      <th>2</th>\n",
       "      <td>2016-09-24 19:36:00.944135</td>\n",
       "      <td>507599</td>\n",
       "      <td>experiment</td>\n",
       "      <td>view</td>\n",
       "    </tr>\n",
       "    <tr>\n",
       "      <th>3</th>\n",
       "      <td>2016-09-24 19:59:02.646620</td>\n",
       "      <td>671993</td>\n",
       "      <td>control</td>\n",
       "      <td>view</td>\n",
       "    </tr>\n",
       "    <tr>\n",
       "      <th>4</th>\n",
       "      <td>2016-09-24 20:26:14.466886</td>\n",
       "      <td>536734</td>\n",
       "      <td>experiment</td>\n",
       "      <td>view</td>\n",
       "    </tr>\n",
       "  </tbody>\n",
       "</table>\n",
       "</div>"
      ],
      "text/plain": [
       "                    timestamp      id       group action\n",
       "0  2016-09-24 17:42:27.839496  804196  experiment   view\n",
       "1  2016-09-24 19:19:03.542569  434745  experiment   view\n",
       "2  2016-09-24 19:36:00.944135  507599  experiment   view\n",
       "3  2016-09-24 19:59:02.646620  671993     control   view\n",
       "4  2016-09-24 20:26:14.466886  536734  experiment   view"
      ]
     },
     "execution_count": 2,
     "metadata": {},
     "output_type": "execute_result"
    }
   ],
   "source": [
    "df = pd.read_csv('homepage_actions.csv')\n",
    "df.head()\n"
   ]
  },
  {
   "cell_type": "code",
   "execution_count": 3,
   "metadata": {},
   "outputs": [],
   "source": [
    "views = df[df['action']=='view']\n",
    "click = df[df['action']=='click']"
   ]
  },
  {
   "cell_type": "code",
   "execution_count": 4,
   "metadata": {},
   "outputs": [
    {
     "data": {
      "text/html": [
       "<div>\n",
       "<style scoped>\n",
       "    .dataframe tbody tr th:only-of-type {\n",
       "        vertical-align: middle;\n",
       "    }\n",
       "\n",
       "    .dataframe tbody tr th {\n",
       "        vertical-align: top;\n",
       "    }\n",
       "\n",
       "    .dataframe thead th {\n",
       "        text-align: right;\n",
       "    }\n",
       "</style>\n",
       "<table border=\"1\" class=\"dataframe\">\n",
       "  <thead>\n",
       "    <tr style=\"text-align: right;\">\n",
       "      <th></th>\n",
       "      <th>id</th>\n",
       "      <th>group</th>\n",
       "      <th>action</th>\n",
       "      <th>action1</th>\n",
       "      <th>action2</th>\n",
       "    </tr>\n",
       "  </thead>\n",
       "  <tbody>\n",
       "    <tr>\n",
       "      <th>0</th>\n",
       "      <td>182988</td>\n",
       "      <td>experiment</td>\n",
       "      <td>[view]</td>\n",
       "      <td>view</td>\n",
       "      <td>None</td>\n",
       "    </tr>\n",
       "    <tr>\n",
       "      <th>1</th>\n",
       "      <td>182994</td>\n",
       "      <td>control</td>\n",
       "      <td>[view, click]</td>\n",
       "      <td>view</td>\n",
       "      <td>click</td>\n",
       "    </tr>\n",
       "    <tr>\n",
       "      <th>2</th>\n",
       "      <td>183089</td>\n",
       "      <td>control</td>\n",
       "      <td>[view]</td>\n",
       "      <td>view</td>\n",
       "      <td>None</td>\n",
       "    </tr>\n",
       "    <tr>\n",
       "      <th>3</th>\n",
       "      <td>183136</td>\n",
       "      <td>experiment</td>\n",
       "      <td>[view]</td>\n",
       "      <td>view</td>\n",
       "      <td>None</td>\n",
       "    </tr>\n",
       "    <tr>\n",
       "      <th>4</th>\n",
       "      <td>183141</td>\n",
       "      <td>experiment</td>\n",
       "      <td>[view, click]</td>\n",
       "      <td>view</td>\n",
       "      <td>click</td>\n",
       "    </tr>\n",
       "  </tbody>\n",
       "</table>\n",
       "</div>"
      ],
      "text/plain": [
       "       id       group         action action1 action2\n",
       "0  182988  experiment         [view]    view    None\n",
       "1  182994     control  [view, click]    view   click\n",
       "2  183089     control         [view]    view    None\n",
       "3  183136  experiment         [view]    view    None\n",
       "4  183141  experiment  [view, click]    view   click"
      ]
     },
     "execution_count": 4,
     "metadata": {},
     "output_type": "execute_result"
    }
   ],
   "source": [
    "#sorting by actions taken by unique ids\n",
    "df_actions = df.groupby(['id','group'])['action'].apply(list).reset_index()\n",
    "max_actions = df_actions.action.map(lambda x: len(x)).max()\n",
    "df_actions[['action1','action2']] = pd.DataFrame(df_actions.action.values.tolist(), index= df_actions.index)\n",
    "df_actions.head()"
   ]
  },
  {
   "cell_type": "code",
   "execution_count": 5,
   "metadata": {
    "scrolled": true
   },
   "outputs": [
    {
     "data": {
      "text/html": [
       "<div>\n",
       "<style scoped>\n",
       "    .dataframe tbody tr th:only-of-type {\n",
       "        vertical-align: middle;\n",
       "    }\n",
       "\n",
       "    .dataframe tbody tr th {\n",
       "        vertical-align: top;\n",
       "    }\n",
       "\n",
       "    .dataframe thead th {\n",
       "        text-align: right;\n",
       "    }\n",
       "</style>\n",
       "<table border=\"1\" class=\"dataframe\">\n",
       "  <thead>\n",
       "    <tr style=\"text-align: right;\">\n",
       "      <th></th>\n",
       "      <th>id</th>\n",
       "      <th>group</th>\n",
       "      <th>number_groups</th>\n",
       "      <th>group1</th>\n",
       "      <th>group2</th>\n",
       "    </tr>\n",
       "  </thead>\n",
       "  <tbody>\n",
       "    <tr>\n",
       "      <th>0</th>\n",
       "      <td>182988</td>\n",
       "      <td>[experiment]</td>\n",
       "      <td>1</td>\n",
       "      <td>experiment</td>\n",
       "      <td>None</td>\n",
       "    </tr>\n",
       "    <tr>\n",
       "      <th>1</th>\n",
       "      <td>182994</td>\n",
       "      <td>[control, control]</td>\n",
       "      <td>2</td>\n",
       "      <td>control</td>\n",
       "      <td>control</td>\n",
       "    </tr>\n",
       "    <tr>\n",
       "      <th>2</th>\n",
       "      <td>183089</td>\n",
       "      <td>[control]</td>\n",
       "      <td>1</td>\n",
       "      <td>control</td>\n",
       "      <td>None</td>\n",
       "    </tr>\n",
       "    <tr>\n",
       "      <th>3</th>\n",
       "      <td>183136</td>\n",
       "      <td>[experiment]</td>\n",
       "      <td>1</td>\n",
       "      <td>experiment</td>\n",
       "      <td>None</td>\n",
       "    </tr>\n",
       "    <tr>\n",
       "      <th>4</th>\n",
       "      <td>183141</td>\n",
       "      <td>[experiment, experiment]</td>\n",
       "      <td>2</td>\n",
       "      <td>experiment</td>\n",
       "      <td>experiment</td>\n",
       "    </tr>\n",
       "  </tbody>\n",
       "</table>\n",
       "</div>"
      ],
      "text/plain": [
       "       id                     group  number_groups      group1      group2\n",
       "0  182988              [experiment]              1  experiment        None\n",
       "1  182994        [control, control]              2     control     control\n",
       "2  183089                 [control]              1     control        None\n",
       "3  183136              [experiment]              1  experiment        None\n",
       "4  183141  [experiment, experiment]              2  experiment  experiment"
      ]
     },
     "execution_count": 5,
     "metadata": {},
     "output_type": "execute_result"
    }
   ],
   "source": [
    "#Sorting by groups each Id falls into\n",
    "df_group_overlap = df.groupby(['id'])['group'].apply(list).reset_index()\n",
    "max_groups = df_actions.group.map(lambda x: len(x)).max()\n",
    "df_group_overlap['number_groups'] = df_group_overlap['group'].apply(lambda x: len(x))\n",
    "df_group_overlap[['group1','group2']] = pd.DataFrame(df_group_overlap.group.values.tolist(), index= df_group_overlap.index)\n",
    "df_group_overlap.head()"
   ]
  },
  {
   "cell_type": "code",
   "execution_count": 6,
   "metadata": {},
   "outputs": [
    {
     "data": {
      "text/plain": [
       "[]"
      ]
     },
     "execution_count": 6,
     "metadata": {},
     "output_type": "execute_result"
    }
   ],
   "source": [
    "# checking for users that appear in control and test\n",
    "repeat_id = []\n",
    "for i in range(0,len(df_group_overlap)):\n",
    "    if len(df_group_overlap.group[i]) == 2:\n",
    "        if df_group_overlap.group[i][0] != df_group_overlap.group[i][1]:\n",
    "            repeat_id.append(df_group_overlap.id[i])\n",
    "repeat_id"
   ]
  },
  {
   "cell_type": "code",
   "execution_count": 7,
   "metadata": {
    "scrolled": false
   },
   "outputs": [
    {
     "name": "stdout",
     "output_type": "stream",
     "text": [
      "Summary of Initial findings\n",
      "There are 8188 records\n",
      "There are 6328 unique IDs\n",
      "There are 1860 users that either took more than one action or are in both the experiment and control group\n",
      "*************************\n",
      "There are 2 unique actions a user can take\n",
      "The unique actions are: view - click\n",
      "The max number of actions taken by one user is: 2\n",
      "*************************\n",
      "There are 6328 users that viewed the homepage\n",
      "That represent 100.0% of all users\n",
      "*************************\n",
      "There are 1860 users that click on homepage\n",
      "That represent 29.39% of all users\n",
      "There is no contamination between the control and Experiment\n"
     ]
    }
   ],
   "source": [
    "print('Summary of Initial findings')\n",
    "print(\"There are {} records\".format(len(df)))\n",
    "print(\"There are {} unique IDs\".format(len(df.id.unique())))\n",
    "print(\"There are {} users that either took more than one action or are in both the experiment and control group\".format(len(df)-len(df.id.unique())))\n",
    "print(\"*************************\")\n",
    "print(\"There are {} unique actions a user can take\".format(len(df.action.unique())))\n",
    "print(\"The unique actions are: {} - {}\".format(df.action.unique()[0],df.action.unique()[1]))\n",
    "print('The max number of actions taken by one user is: {}'.format(max_actions))\n",
    "print(\"*************************\")\n",
    "print(\"There are {} users that viewed the homepage\".format(len(views)))\n",
    "print(\"That represent {}% of all users\".format(round(len(views)/len(df.id.unique())*100,2)))\n",
    "print(\"*************************\")\n",
    "print(\"There are {} users that click on homepage\".format(len(click)))\n",
    "print(\"That represent {}% of all users\".format(round(len(click)/len(df.id.unique())*100,2)))\n",
    "print(\"There is no contamination between the control and Experiment\")\n",
    "\n"
   ]
  },
  {
   "cell_type": "code",
   "execution_count": 8,
   "metadata": {},
   "outputs": [],
   "source": [
    "# Finalizing the dataframe"
   ]
  },
  {
   "cell_type": "code",
   "execution_count": 9,
   "metadata": {},
   "outputs": [],
   "source": [
    "#cleaning groups\n",
    "df_group_clean = df_group_overlap.drop(labels=['group','number_groups','group2'], axis=1)\n",
    "df_group_clean.head()\n",
    "\n",
    "#cleaning actions\n",
    "df_actions_clean = df_actions.drop(labels=['group','action'], axis=1)\n",
    "df_actions_clean.head()\n",
    "\n",
    "#cleaing time \n",
    "from datetime import datetime\n",
    "\n",
    "df_time_stamp = df.groupby(['id'])['timestamp'].apply(list).reset_index()\n",
    "df_time_stamp[['time1','time2']] = pd.DataFrame(df_time_stamp.timestamp.values.tolist(), index= df_group_overlap.index)\n",
    "df_time_stamp_clean = df_time_stamp.drop(labels='timestamp',axis=1)\n",
    "df_time_stamp_clean['time1'] = pd.to_datetime(df_time_stamp_clean['time1'], infer_datetime_format=True)\n",
    "df_time_stamp_clean['time2'] = pd.to_datetime(df_time_stamp_clean['time2'], infer_datetime_format=True)\n",
    "df_time_stamp_clean['diff'] = df_time_stamp_clean['time2'] - df_time_stamp_clean['time1']\n",
    "\n"
   ]
  },
  {
   "cell_type": "code",
   "execution_count": 10,
   "metadata": {
    "scrolled": true
   },
   "outputs": [
    {
     "data": {
      "text/html": [
       "<div>\n",
       "<style scoped>\n",
       "    .dataframe tbody tr th:only-of-type {\n",
       "        vertical-align: middle;\n",
       "    }\n",
       "\n",
       "    .dataframe tbody tr th {\n",
       "        vertical-align: top;\n",
       "    }\n",
       "\n",
       "    .dataframe thead th {\n",
       "        text-align: right;\n",
       "    }\n",
       "</style>\n",
       "<table border=\"1\" class=\"dataframe\">\n",
       "  <thead>\n",
       "    <tr style=\"text-align: right;\">\n",
       "      <th></th>\n",
       "      <th>id</th>\n",
       "      <th>group1</th>\n",
       "      <th>action1</th>\n",
       "      <th>action2</th>\n",
       "      <th>time1</th>\n",
       "      <th>time2</th>\n",
       "      <th>diff</th>\n",
       "    </tr>\n",
       "  </thead>\n",
       "  <tbody>\n",
       "    <tr>\n",
       "      <th>0</th>\n",
       "      <td>182988</td>\n",
       "      <td>experiment</td>\n",
       "      <td>view</td>\n",
       "      <td>None</td>\n",
       "      <td>2016-11-26 14:38:47.682931</td>\n",
       "      <td>NaT</td>\n",
       "      <td>NaT</td>\n",
       "    </tr>\n",
       "    <tr>\n",
       "      <th>1</th>\n",
       "      <td>182994</td>\n",
       "      <td>control</td>\n",
       "      <td>view</td>\n",
       "      <td>click</td>\n",
       "      <td>2016-12-14 13:19:00.940677</td>\n",
       "      <td>2016-12-14 13:20:29.564080</td>\n",
       "      <td>00:01:28.623403</td>\n",
       "    </tr>\n",
       "    <tr>\n",
       "      <th>2</th>\n",
       "      <td>183089</td>\n",
       "      <td>control</td>\n",
       "      <td>view</td>\n",
       "      <td>None</td>\n",
       "      <td>2016-09-29 23:04:42.722325</td>\n",
       "      <td>NaT</td>\n",
       "      <td>NaT</td>\n",
       "    </tr>\n",
       "    <tr>\n",
       "      <th>3</th>\n",
       "      <td>183136</td>\n",
       "      <td>experiment</td>\n",
       "      <td>view</td>\n",
       "      <td>None</td>\n",
       "      <td>2016-12-27 10:13:58.808014</td>\n",
       "      <td>NaT</td>\n",
       "      <td>NaT</td>\n",
       "    </tr>\n",
       "    <tr>\n",
       "      <th>4</th>\n",
       "      <td>183141</td>\n",
       "      <td>experiment</td>\n",
       "      <td>view</td>\n",
       "      <td>click</td>\n",
       "      <td>2016-11-20 07:58:52.768641</td>\n",
       "      <td>2016-11-20 08:00:22.434253</td>\n",
       "      <td>00:01:29.665612</td>\n",
       "    </tr>\n",
       "  </tbody>\n",
       "</table>\n",
       "</div>"
      ],
      "text/plain": [
       "       id      group1 action1 action2                      time1  \\\n",
       "0  182988  experiment    view    None 2016-11-26 14:38:47.682931   \n",
       "1  182994     control    view   click 2016-12-14 13:19:00.940677   \n",
       "2  183089     control    view    None 2016-09-29 23:04:42.722325   \n",
       "3  183136  experiment    view    None 2016-12-27 10:13:58.808014   \n",
       "4  183141  experiment    view   click 2016-11-20 07:58:52.768641   \n",
       "\n",
       "                       time2            diff  \n",
       "0                        NaT             NaT  \n",
       "1 2016-12-14 13:20:29.564080 00:01:28.623403  \n",
       "2                        NaT             NaT  \n",
       "3                        NaT             NaT  \n",
       "4 2016-11-20 08:00:22.434253 00:01:29.665612  "
      ]
     },
     "execution_count": 10,
     "metadata": {},
     "output_type": "execute_result"
    }
   ],
   "source": [
    "#joining \n",
    "df_final = df_group_clean.set_index('id').join(df_actions_clean.set_index('id'),rsuffix='_join').join(df_time_stamp_clean.set_index('id'),rsuffix='_join')\n",
    "df_final.reset_index(inplace=True)\n",
    "df_final.head()"
   ]
  },
  {
   "cell_type": "code",
   "execution_count": 11,
   "metadata": {},
   "outputs": [],
   "source": [
    "df_final['count_click'] = [1.0 if x == 'click' else 0.0 for x in df_final['action2']]"
   ]
  },
  {
   "cell_type": "code",
   "execution_count": 12,
   "metadata": {},
   "outputs": [
    {
     "name": "stdout",
     "output_type": "stream",
     "text": [
      "There are 3332 ids in the control sample\n",
      "There are 2996 ids in the experiment sample\n"
     ]
    }
   ],
   "source": [
    "# creating both test groups\n",
    "df_control = df_final[df_final['group1'] == \"control\"]\n",
    "df_test = df_final[df_final['group1'] == 'experiment']\n",
    "df_control_CTR = round(df_control.count_click.sum()/len(df_control)*100,2)\n",
    "df_test_CTR = round(df_test.count_click.sum()/len(df_test)*100,2)\n",
    "clicks_control = df_control.count_click.sum()\n",
    "clicks_test = df_test.count_click.sum()\n",
    "\n",
    "print('There are {} ids in the control sample'.format(len(df_control)))\n",
    "print('There are {} ids in the experiment sample'.format(len(df_test)))"
   ]
  },
  {
   "cell_type": "code",
   "execution_count": 13,
   "metadata": {},
   "outputs": [
    {
     "name": "stdout",
     "output_type": "stream",
     "text": [
      "Summary Stats\n",
      "*****************\n",
      "Clicks \tControl:932.0 \tTest:928.0\n",
      "CTR: \tControl:27.97% \tTest:30.97%\n"
     ]
    }
   ],
   "source": [
    "# summary Stats\n",
    "print('Summary Stats')\n",
    "print('*****************')\n",
    "print('Clicks \\tControl:{} \\tTest:{}'.format(clicks_control,clicks_test))\n",
    "print('CTR: \\tControl:{}% \\tTest:{}%'.format(df_control_CTR, df_test_CTR))"
   ]
  },
  {
   "cell_type": "markdown",
   "metadata": {},
   "source": [
    "## Conduct a Statistical Test\n",
    "\n",
    "Conduct a statistical test to determine whether the experimental homepage was more effective than that of the control group."
   ]
  },
  {
   "cell_type": "markdown",
   "metadata": {},
   "source": [
    "### Hypothesis\n",
    "H_0 = The experimental site does not drive more engagement\n",
    "\n",
    "H_1 = The experimental site drives more clicks then the control group"
   ]
  },
  {
   "cell_type": "code",
   "execution_count": 14,
   "metadata": {},
   "outputs": [
    {
     "data": {
      "text/plain": [
       "0.004466402814337101"
      ]
     },
     "execution_count": 14,
     "metadata": {},
     "output_type": "execute_result"
    }
   ],
   "source": [
    "p_scypi = stats.ttest_ind(df_control.count_click, df_test.count_click, equal_var=False)[1]/2\n",
    "p_scypi"
   ]
  },
  {
   "cell_type": "code",
   "execution_count": 15,
   "metadata": {},
   "outputs": [
    {
     "name": "stdout",
     "output_type": "stream",
     "text": [
      "Given the results of our test there is enough evidence to reject the null hypothesis that the experimental site did not drive more clicks\n"
     ]
    }
   ],
   "source": [
    "print('Given the results of our test there is enough evidence to reject the null hypothesis that the experimental site did not drive more clicks')\n"
   ]
  },
  {
   "cell_type": "markdown",
   "metadata": {},
   "source": [
    "## Verifying Results\n",
    "\n",
    "One sensible formulation of the data to answer the hypothesis test above would be to create a binary variable representing each individual in the experiment and control group. This binary variable would represent whether or not that individual clicked on the homepage; 1 for they did and 0 if they did not. \n",
    "\n",
    "The variance for the number of successes in a sample of a binomial variable with n observations is given by:\n",
    "\n",
    "## $n\\bullet p (1-p)$\n",
    "\n",
    "Given this, perform 3 steps to verify the results of your statistical test:\n",
    "1. Calculate the expected number of clicks for the experiment group, if it had the same click-through rate as that of the control group. \n",
    "2. Calculate the number of standard deviations that the actual number of clicks was from this estimate. \n",
    "3. Finally, calculate a p-value using the normal distribution based on this z-score."
   ]
  },
  {
   "cell_type": "markdown",
   "metadata": {},
   "source": [
    "### Step 1:\n",
    "Calculate the expected number of clicks for the experiment group, if it had the same click-through rate as that of the control group. "
   ]
  },
  {
   "cell_type": "code",
   "execution_count": 16,
   "metadata": {},
   "outputs": [
    {
     "name": "stdout",
     "output_type": "stream",
     "text": [
      "With no effect we would expect to see 838.0 clicks\n"
     ]
    }
   ],
   "source": [
    "#Your code here\n",
    "expected_clicks = round(len(df_test)*df_control_CTR/100,0)\n",
    "print('With no effect we would expect to see {} clicks'.format(expected_clicks))"
   ]
  },
  {
   "cell_type": "markdown",
   "metadata": {},
   "source": [
    "### Step 2:\n",
    "Calculate the number of standard deviations that the actual number of clicks was from this estimate."
   ]
  },
  {
   "cell_type": "code",
   "execution_count": 17,
   "metadata": {},
   "outputs": [
    {
     "name": "stdout",
     "output_type": "stream",
     "text": [
      "The actual results are 24.57 standard deviations removed from the estimate\n"
     ]
    }
   ],
   "source": [
    "#Your code here\n",
    "var = len(df_test)*df_control_CTR/100*(1 - df_control_CTR/100)\n",
    "std = round(np.sqrt(var),2)\n",
    "print('The actual results are {} standard deviations removed from the estimate'.format(std))"
   ]
  },
  {
   "cell_type": "markdown",
   "metadata": {},
   "source": [
    "### Step 3: \n",
    "Finally, calculate a p-value using the normal distribution based on this z-score."
   ]
  },
  {
   "cell_type": "code",
   "execution_count": 18,
   "metadata": {},
   "outputs": [
    {
     "name": "stdout",
     "output_type": "stream",
     "text": [
      "0.00012463748635944125\n"
     ]
    }
   ],
   "source": [
    "#Your code here\n",
    "import scipy.stats as stats\n",
    "\n",
    "z = (clicks_test - expected_clicks)/std\n",
    "p_val = stats.norm.sf(z) #or 1 - stats.norm.cdf(z_score)\n",
    "print(p_val)"
   ]
  },
  {
   "cell_type": "code",
   "execution_count": 19,
   "metadata": {},
   "outputs": [
    {
     "name": "stdout",
     "output_type": "stream",
     "text": [
      "\n"
     ]
    }
   ],
   "source": [
    "print()"
   ]
  },
  {
   "cell_type": "markdown",
   "metadata": {},
   "source": [
    "### Analysis:\n",
    "\n",
    "Does this result roughly match that of the previous statistical test?\n",
    "\n",
    "> Comment: While we obtain a slighly lower p-value using the verification  method, both lead to the rejection of the null hypothesis \n",
    "As such, assuming a 95% confidence interval we can be 95% certain that the experimental page had an affect on the CTR of the home page"
   ]
  },
  {
   "cell_type": "markdown",
   "metadata": {},
   "source": [
    "## Summary\n",
    "\n",
    "In this lab, you continued to get more practice designing and conducting AB tests. This required additional work preprocessing and formulating the initial problem in a suitable manner. Additionally, you also saw how to verify results, strengthening your knowledge of binomial variables, and reviewing initial statistical concepts of the central limit theorem, standard deviation, z-scores, and their accompanying p-values."
   ]
  }
 ],
 "metadata": {
  "kernelspec": {
   "display_name": "Python 3",
   "language": "python",
   "name": "python3"
  },
  "language_info": {
   "codemirror_mode": {
    "name": "ipython",
    "version": 3
   },
   "file_extension": ".py",
   "mimetype": "text/x-python",
   "name": "python",
   "nbconvert_exporter": "python",
   "pygments_lexer": "ipython3",
   "version": "3.6.6"
  }
 },
 "nbformat": 4,
 "nbformat_minor": 2
}
